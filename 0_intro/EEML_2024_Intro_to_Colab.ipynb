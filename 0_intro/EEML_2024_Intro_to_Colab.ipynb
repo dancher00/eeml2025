{
  "nbformat": 4,
  "nbformat_minor": 0,
  "metadata": {
    "colab": {
      "provenance": [],
      "gpuType": "T4",
      "include_colab_link": true
    },
    "kernelspec": {
      "name": "python3",
      "display_name": "Python 3"
    },
    "language_info": {
      "name": "python"
    },
    "accelerator": "GPU"
  },
  "cells": [
    {
      "cell_type": "markdown",
      "metadata": {
        "id": "view-in-github",
        "colab_type": "text"
      },
      "source": [
        "<a href=\"https://colab.research.google.com/github/dancher00/eeml2025/blob/main/0_intro/EEML_2024_Intro_to_Colab.ipynb\" target=\"_parent\"><img src=\"https://colab.research.google.com/assets/colab-badge.svg\" alt=\"Open In Colab\"/></a>"
      ]
    },
    {
      "cell_type": "markdown",
      "source": [
        "# Introduction to Colab and PyTorch Tutorial\n",
        "\n",
        "---\n",
        "**Authors**:\n",
        "* Mandana Samiei (samieima@mila.quebec)\n",
        "* Theodor Szente (teosz@google.com)\n"
      ],
      "metadata": {
        "id": "lxdiOoGVQ2s4"
      }
    },
    {
      "cell_type": "markdown",
      "source": [
        "## Introduction to Google Colab\n",
        "\n",
        "Google Colab is a free cloud-based Jupyter notebook environment provided by Google. It is used for machine learning, data analysis, and any Python-based computation.\n",
        "\n",
        "## Table of Contents\n",
        "\n",
        "1. [Getting Started](#section-1)\n",
        "2. [Basic Operations](#section-2)\n",
        "3. [Using a GPU](#section-3)\n",
        "4. [Importing Libraries](#section-4)\n",
        "5. [Loading Data](#section-5)\n",
        "6. [Loading Data from a URL](#section-6)\n",
        "7. [Visualizing Data](#section-7)\n",
        "8. [Saving and Sharing Notebooks](#section-8)\n",
        "9. [More Resources](#section-9)\n",
        "---"
      ],
      "metadata": {
        "id": "dVMUKH72do90"
      }
    },
    {
      "cell_type": "markdown",
      "source": [
        "## <a name=\"section-1\"> 1. Getting Started </a>"
      ],
      "metadata": {
        "id": "Nre9dioa1lVj"
      }
    },
    {
      "cell_type": "markdown",
      "source": [
        "To access Google Colab, you need a Google account. Follow these steps:\n",
        "\n",
        "1. Open your web browser and go to Google Colab.\n",
        "2. Sign in with your Google account if you aren't already signed in.\n",
        "\n",
        "Once you have accessed Google Colab:\n",
        "\n",
        "1. Click on the \"File\" menu.\n",
        "2. Select \"New notebook\". This will create a new Colab notebook, which you can start using immediately."
      ],
      "metadata": {
        "id": "4UK4ts5E1eeO"
      }
    },
    {
      "cell_type": "markdown",
      "source": [
        "## <a name=\"section-2\"> 2. Basic Operations </a>\n",
        "\n",
        "Google Colab notebooks are composed of cells. There are two main types of cells:\n",
        "\n",
        "**Code Cells**: Used to write and execute Python code.\n",
        "\n",
        "**Text Cells (Markdown Cells)**: Used to add text, titles, and explanations to your notebook using Markdown syntax."
      ],
      "metadata": {
        "id": "ikMYG2DK1e2m"
      }
    },
    {
      "cell_type": "markdown",
      "source": [
        "###Running a Code Cell\n",
        "\n",
        "Click the `Run` button next to the cell, or press `Shift + Enter` to execute the code in the cell. Run the following cell to see the print out."
      ],
      "metadata": {
        "id": "GS99Lmd8S-MI"
      }
    },
    {
      "cell_type": "code",
      "source": [
        "print('Hello, EEML2024!')"
      ],
      "metadata": {
        "colab": {
          "base_uri": "https://localhost:8080/"
        },
        "id": "ZXSHWHOBS9qe",
        "outputId": "7cdcf207-fb36-4e95-a2d1-2f97c74b2fc6"
      },
      "execution_count": null,
      "outputs": [
        {
          "output_type": "stream",
          "name": "stdout",
          "text": [
            "Hello, EEML2024!\n"
          ]
        }
      ]
    },
    {
      "cell_type": "markdown",
      "source": [
        "###Running a Text Cell"
      ],
      "metadata": {
        "id": "dFo1P5f8eXqu"
      }
    },
    {
      "cell_type": "markdown",
      "source": [
        "\n",
        "###This is a heading\n",
        "This is some text."
      ],
      "metadata": {
        "id": "7zzqWrHvePK6"
      }
    },
    {
      "cell_type": "markdown",
      "source": [
        "To read more about cells, please look into [More Resources](#section-9) reference [1]. To learn more about Markdown, please check reference [2]."
      ],
      "metadata": {
        "id": "vyMwwMLd5fLc"
      }
    },
    {
      "cell_type": "markdown",
      "source": [
        "## <a name=\"section-3\"> 3. Using a GPU</a>\n",
        "You can connect to a virtual machine with a GPU. To select the hardware you want to use, follow either\n",
        "\n",
        "\n",
        "* **Edit > Notebook settings,** or\n",
        "\n",
        "\n",
        "* **Runtime > Change runtime type**\n",
        "\n",
        "\n",
        "and choose a hardware accelerator.\n",
        "\n",
        "Note: GPU availability can be stochastic and short-lived, especially in shared or cloud environments. Always ensure to have fallback mechanisms in place for CPU execution.\n"
      ],
      "metadata": {
        "id": "jO5zWNpXfdXe"
      }
    },
    {
      "cell_type": "markdown",
      "source": [
        "### GPU vs CPU"
      ],
      "metadata": {
        "id": "V3Foulc1HF8I"
      }
    },
    {
      "cell_type": "code",
      "source": [
        "import torch\n",
        "\n",
        "def func(x):\n",
        "  return torch.sin(x) / x\n",
        "\n",
        "x = torch.ones((1000, 1000))\n",
        "x.device\n",
        "\n",
        "print('computation time using CPU')\n",
        "%timeit func(x)"
      ],
      "metadata": {
        "colab": {
          "base_uri": "https://localhost:8080/"
        },
        "id": "RMntdYhDHIkD",
        "outputId": "306915cc-2dc6-4331-d486-c2914d03ffd0"
      },
      "execution_count": null,
      "outputs": [
        {
          "output_type": "stream",
          "name": "stdout",
          "text": [
            "computational time using CPU\n",
            "7.33 ms ± 958 µs per loop (mean ± std. dev. of 7 runs, 100 loops each)\n"
          ]
        }
      ]
    },
    {
      "cell_type": "code",
      "source": [
        "import torch\n",
        "\n",
        "if torch.cuda.is_available():\n",
        "  device = 'cuda:0'\n",
        "  print(torch.cuda.get_device_name(0))\n",
        "else:\n",
        "  print(\"Change runtime type to GPU\")"
      ],
      "metadata": {
        "colab": {
          "base_uri": "https://localhost:8080/"
        },
        "id": "cJbIAQsaHcoY",
        "outputId": "17308717-7946-4c1e-8f87-7e75aac03294"
      },
      "execution_count": null,
      "outputs": [
        {
          "output_type": "stream",
          "name": "stdout",
          "text": [
            "Tesla T4\n"
          ]
        }
      ]
    },
    {
      "cell_type": "code",
      "source": [
        "def func(x):\n",
        "  return torch.sin(x) / x\n",
        "\n",
        "x = torch.ones((1000, 1000))\n",
        "x = x.to(device)\n",
        "x.device\n",
        "\n",
        "print('computation time using GPU')\n",
        "%timeit func(x)\n"
      ],
      "metadata": {
        "colab": {
          "base_uri": "https://localhost:8080/"
        },
        "id": "jQDQ0XoeHlOw",
        "outputId": "024b662a-b862-4441-d724-4e5c3561eb90"
      },
      "execution_count": null,
      "outputs": [
        {
          "output_type": "stream",
          "name": "stdout",
          "text": [
            "computation time using GPU\n",
            "87.5 µs ± 45 ns per loop (mean ± std. dev. of 7 runs, 10000 loops each)\n"
          ]
        }
      ]
    },
    {
      "cell_type": "markdown",
      "source": [
        "## <a name=\"section-4\">4. Importing Libraries</a>\n",
        "You can import and use popular libraries such as NumPy, Pandas, and Matplotlib in Colab.\n"
      ],
      "metadata": {
        "id": "h04tDD-nezLX"
      }
    },
    {
      "cell_type": "code",
      "source": [],
      "metadata": {
        "id": "mqo1CIu8HWyk"
      },
      "execution_count": null,
      "outputs": []
    },
    {
      "cell_type": "code",
      "source": [
        "import numpy as np\n",
        "import pandas as pd\n",
        "import matplotlib.pyplot as plt\n",
        "\n",
        "# Example: Create a NumPy array and print it\n",
        "array = np.array([1, 2, 3, 4, 5])\n",
        "print(\"NumPy Array:\", array)"
      ],
      "metadata": {
        "colab": {
          "base_uri": "https://localhost:8080/"
        },
        "id": "4ESOfzGFe1Tb",
        "outputId": "99a6ab98-c8c4-4caf-ed12-434019c4856f"
      },
      "execution_count": null,
      "outputs": [
        {
          "output_type": "stream",
          "name": "stdout",
          "text": [
            "NumPy Array: [1 2 3 4 5]\n"
          ]
        }
      ]
    },
    {
      "cell_type": "markdown",
      "source": [
        "### Importing a library that is not in Colaboratory\n",
        "\n",
        "To import a library that's not in Colaboratory by default, you can use `!pip install` or `!apt-get install`."
      ],
      "metadata": {
        "id": "qo_YZa6PqNCD"
      }
    },
    {
      "cell_type": "markdown",
      "source": [
        "###Install **GraphViz**"
      ],
      "metadata": {
        "id": "aab_YlmSrH9p"
      }
    },
    {
      "cell_type": "code",
      "source": [
        "!apt-get -qq install -y graphviz\n",
        "import graphviz"
      ],
      "metadata": {
        "id": "26H3cNWDrEyh"
      },
      "execution_count": null,
      "outputs": []
    },
    {
      "cell_type": "markdown",
      "source": [
        "## <a name=\"section-5\">5. Loading Data</a>\n",
        "This cell demonstrates how to mount Google Drive, load a file, and read it into a pandas DataFrame.\n",
        "\n",
        "Steps:\n",
        "1. Mount Google Drive:\n",
        "   - drive.mount('/content/drive'): This command mounts your Google Drive to the Colab environment, making it accessible like a local file system.\n",
        "   - Note: Users can also use the Directory icon in the side menu to upload and download files interactively.\n",
        "\n",
        "2. File Path Parameter:\n",
        "   - file_path = '/content/drive/MyDrive/your_file.csv'  # @param {type:\"string\"}\n",
        "   - This line uses an interactive form parameter to allow users to input the file path.\n",
        "   - Users can check out the \"Resources\" section in Google Colab for more interactive form options.\n",
        "\n",
        "3. Load and Display Data:\n",
        "   - pd.read_csv(file_path): Reads the specified CSV file into a pandas DataFrame.\n",
        "   - print(data.head()): Displays the first few rows of the DataFrame to verify the data.\n",
        "\n"
      ],
      "metadata": {
        "id": "pMOW6PP6fPMp"
      }
    },
    {
      "cell_type": "code",
      "source": [
        "from google.colab import drive\n",
        "\n",
        "# Mount Google Drive to access files\n",
        "drive.mount('/content/drive')\n",
        "\n",
        "# Load a file from Google Drive\n",
        "# Interactive form to input the file path\n",
        "file_path = '/content/drive/MyDrive/your_file.csv'  # @param {type:\"string\"}\n",
        "\n",
        "# Read the CSV file into a DataFrame\n",
        "data = pd.read_csv(file_path)\n",
        "\n",
        "# Display the first few rows of the DataFrame\n",
        "print(data.head())"
      ],
      "metadata": {
        "id": "jw3revfHfPqX"
      },
      "execution_count": null,
      "outputs": []
    },
    {
      "cell_type": "markdown",
      "source": [
        "## <a name=\"section-6\"> 6. Loading Data from a URL </a>\n",
        "This cell demonstrates how to load a dataset from a URL and display its first few rows using pandas.\n",
        "\n",
        "Steps:\n",
        "1. Dataset URL:\n",
        "   - The URL points to the Iris dataset hosted on the MIT OpenCourseWare website.\n",
        "\n",
        "2. Loading the Dataset:\n",
        "   - pd.read_csv(url): Reads the CSV file from the provided URL into a pandas DataFrame.\n",
        "\n",
        "3. Displaying the Data:\n",
        "   - print(data.head()): Displays the first five rows of the DataFrame to provide a quick preview of the dataset.\n",
        "\n",
        "The Iris dataset is a classic dataset used in machine learning, containing 150 observations of iris flowers with four features: sepal length, sepal width, petal length, and petal width, along with the target variable indicating the species of the iris flower.\n"
      ],
      "metadata": {
        "id": "hoy7kPjrfmGv"
      }
    },
    {
      "cell_type": "code",
      "source": [
        "# URL of the dataset\n",
        "url = 'https://ocw.mit.edu/courses/15-097-prediction-machine-learning-and-statistics-spring-2012/89d88c5528513adc4002a1618ce2efb0_iris.csv'\n",
        "\n",
        "# Load the dataset from the URL\n",
        "data = pd.read_csv(url)\n",
        "\n",
        "# Display the first few rows of the dataset\n",
        "print(data.head())"
      ],
      "metadata": {
        "id": "rymQ6PFffpAz",
        "colab": {
          "base_uri": "https://localhost:8080/"
        },
        "outputId": "ba625ba0-53d9-4eac-ed1c-88ee07405d1a"
      },
      "execution_count": null,
      "outputs": [
        {
          "output_type": "stream",
          "name": "stdout",
          "text": [
            "   5.1  3.5  1.4  0.2  Iris-setosa\n",
            "0  4.9  3.0  1.4  0.2  Iris-setosa\n",
            "1  4.7  3.2  1.3  0.2  Iris-setosa\n",
            "2  4.6  3.1  1.5  0.2  Iris-setosa\n",
            "3  5.0  3.6  1.4  0.2  Iris-setosa\n",
            "4  5.4  3.9  1.7  0.4  Iris-setosa\n"
          ]
        }
      ]
    },
    {
      "cell_type": "markdown",
      "source": [
        "## <a name=\"section-7\"> 7. Visualizing Data </a>\n",
        "\n",
        "This cell demonstrates how to create a simple histogram using Matplotlib.\n",
        "\n",
        "Imports:\n",
        "- numpy as np: A library for numerical computations and handling arrays.\n",
        "- matplotlib.pyplot as plt: A plotting library used for creating static, animated, and interactive visualizations.\n",
        "- seaborn as sns: A data visualization library based on Matplotlib that provides a high-level interface for drawing attractive and informative statistical graphics.\n",
        "\n",
        "Steps:\n",
        "1. Generate Random Data:\n",
        "   - data = np.random.randn(100): Generates 100 random numbers from a standard normal distribution (mean = 0, standard deviation = 1) using NumPy.\n",
        "\n",
        "2. Create a Histogram:\n",
        "   - plt.hist(data, bins=30): Creates a histogram of the generated data with 30 bins.\n",
        "   - A histogram is a graphical representation of the distribution of numerical data, showing the frequency of data points in each bin.\n",
        "\n",
        "3. Add Title and Show Plot:\n",
        "   - plt.title('Histogram'): Adds a title to the histogram.\n",
        "   - plt.show(): Displays the histogram.\n",
        "\n",
        "The histogram provides a visual representation of the distribution of the randomly generated data.\n",
        "\n"
      ],
      "metadata": {
        "id": "2Z5dh-4_fwYk"
      }
    },
    {
      "cell_type": "code",
      "source": [
        "import numpy as np\n",
        "import matplotlib.pyplot as plt\n",
        "import seaborn as sns\n",
        "\n",
        "# Example: Create a simple plot\n",
        "data = np.random.randn(100)\n",
        "\n",
        "# Create a histogram of the data with 30 bins\n",
        "plt.hist(data, bins=30)\n",
        "plt.title('Histogram')\n",
        "plt.show()"
      ],
      "metadata": {
        "colab": {
          "base_uri": "https://localhost:8080/",
          "height": 452
        },
        "id": "XvSbjPcqf2ID",
        "outputId": "cd1fbdce-9ec0-45a0-8447-319181c9e823"
      },
      "execution_count": null,
      "outputs": [
        {
          "output_type": "display_data",
          "data": {
            "text/plain": [
              "<Figure size 640x480 with 1 Axes>"
            ],
            "image/png": "[encoded data removed]"
          },
          "metadata": {}
        }
      ]
    },
    {
      "cell_type": "markdown",
      "source": [
        "## <a name=\"section-8\"> 8. Saving and Sharing Notebooks </a>\n",
        "\n",
        "### Saving Notebooks\n",
        "Click on File > Save a copy in Drive to save your notebook in Google Drive.\n",
        "\n",
        "### Sharing Notebooks\n",
        "Click on Share in the top-right corner to share your notebook with others. You can set the access permissions to view or edit.\n"
      ],
      "metadata": {
        "id": "BoomEfHAgEiM"
      }
    },
    {
      "cell_type": "markdown",
      "source": [
        "## <a name=\"section-9\">9. More Resources</a>\n",
        "\n",
        "### Working with Notebooks in Colab\n",
        "\n",
        "</div>\n",
        "\n",
        "1. [Overview of Colab](/notebooks/basic_features_overview.ipynb)\n",
        "2. [Guide to Markdown](/notebooks/markdown_guide.ipynb)\n",
        "3. [Importing libraries and installing dependencies](/notebooks/snippets/importing_libraries.ipynb)\n",
        "4. [Saving and loading notebooks in GitHub](https://colab.research.google.com/github/googlecolab/colabtools/blob/main/notebooks/colab-github-demo.ipynb)\n",
        "5. [Interactive forms](/notebooks/forms.ipynb)\n",
        "6. [Interactive widgets](/notebooks/widgets.ipynb)\n"
      ],
      "metadata": {
        "id": "drTtryZbS7st"
      }
    },
    {
      "cell_type": "markdown",
      "source": [
        "###**With these basics, you're ready to start using Google Colab for your projects. Happy coding!**"
      ],
      "metadata": {
        "id": "XpIheAfv2gE5"
      }
    }
  ]
}